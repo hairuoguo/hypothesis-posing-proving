{
 "cells": [
  {
   "cell_type": "code",
   "execution_count": 1,
   "metadata": {
    "collapsed": false
   },
   "outputs": [],
   "source": [
    "%matplotlib inline\n",
    "import pickle\n",
    "import numpy as np\n",
    "import matplotlib.pyplot as plt\n",
    "\n",
    "with open('reverse_env/Reverse_DQN_HER_10_3_1_0.pkl','rb') as f:\n",
    "    data = pickle.load(f)\n",
    "    \n",
    "data = data['DQN-HER'] # only one agent \n",
    "data = data[0] # only one run for this agent\n",
    "ep_lens, avg_ep_lens, _, _, secs_taken = data"
   ]
  },
  {
   "cell_type": "code",
   "execution_count": 13,
   "metadata": {
    "collapsed": false
   },
   "outputs": [],
   "source": [
    "last_eps = ep_lens[-1000:]\n",
    "last_eps = [5, 3, 3, 1, 3, 3, 3, 3, 5, 1, 3, 3, 1, 3, 5, 5, 3, 3, 5, 3, 1, 5, 3, 3, 3, 3, 5, 5, 3, 1, 5, 3, 5, 3, 1, 5, 5, 1, 3, 1, 3, 3, 3, 5, 3, 5, 3, 3, 1, 3, 3, 3, 3, 3, 3, 3, 1, 1, 3, 3, 5, 3, 3, 1, 3, 5, 3, 3, 1, 5, 3, 3, 3, 5, 3, 3, 5, 5, 3, 3, 3, 3, 3, 5, 3, 5, 3, 3, 1, 3, 3, 3, 5, 5, 3, 3, 5, 1, 1, 3, 3, 1, 5, 5, 5, 3, 3, 1, 1, 3, 1, 5, 3, 3, 3, 3, 3, 3, 3, 3, 1, 3, 3, 1, 5, 3, 1, 3, 3, 3, 1, 3, 1, 3, 5, 3, 1, 5, 3, 3, 3, 5, 3, 3, 3, 3, 3, 3, 3, 3, 3, 5, 1, 3, 3, 5, 3, 3, 1, 3, 3, 3, 3, 1, 3, 3, 3, 3, 3, 3, 5, 5, 3, 5, 3, 3, 3, 1, 5, 3, 3, 1, 3, 5, 3, 3, 3, 3, 1, 3, 5, 5, 5, 5, 3, 3, 1, 1, 3, 1, 3, 5, 3, 3, 3, 5, 3, 1, 3, 3, 1, 5, 5, 3, 5, 3, 5, 5, 3, 3, 3, 3, 3, 3, 5, 3, 3, 3, 5, 1, 5, 3, 5, 5, 3, 3, 5, 3, 3, 3, 5, 3, 3, 3, 1, 3, 3, 3, 3, 5, 3, 3, 3, 1, 1, 3, 3, 3, 5, 3, 3, 3, 3, 1, 5, 3, 3, 3, 3, 5, 3, 3, 5, 3, 3, 3, 3, 3, 3, 1, 3, 3, 5, 5, 5, 3, 3, 5, 5, 3, 5, 5, 5, 5, 3, 3, 5, 3, 5, 5, 3, 5, 3, 3, 3, 3, 3, 3, 5, 3, 3, 3, 3, 5, 3, 5, 5, 5, 5, 1, 3, 3, 3, 1, 3, 1, 3, 3, 3, 5, 5, 5, 1, 3, 3, 3, 3, 3, 1, 1, 5, 3, 1, 3, 3, 5, 1, 1, 3, 3, 5, 3, 5, 5, 3, 3, 3, 3, 5, 5, 3, 3, 5, 3, 3, 3, 3, 3, 3, 3, 5, 3, 3, 3, 3, 3, 3, 1, 3, 5, 5, 3, 3, 3, 3, 5, 5, 3, 5, 5, 5, 5, 3, 3, 5, 1, 5, 5, 3, 5, 3, 3, 3, 5, 5, 3, 3, 3, 3, 3, 3, 5, 3, 3, 3, 3, 5, 5, 3, 3, 1, 3, 3, 3, 3, 3, 5, 3, 1, 5, 5, 3, 3, 1, 3, 5, 3, 3, 5, 3, 3, 1, 1, 3, 1, 1, 1, 3, 5, 3, 3, 3, 1, 5, 3, 3, 1, 3, 1, 1, 3, 1, 3, 3, 3, 3, 3, 5, 3, 3, 3, 3, 3, 3, 3, 3, 5, 3, 3, 5, 3, 3, 3, 5, 1, 1, 3, 3, 5, 3, 3, 3, 3, 1, 5, 3, 3, 1, 1, 5, 5, 3, 3, 5, 3, 3, 3, 5, 3, 1, 3, 3, 1, 3, 3, 5, 3, 5, 5, 3, 3, 3, 3, 3, 1, 5, 3, 5, 1, 3, 3, 5, 3, 3, 3, 3, 3, 5, 3, 3, 5, 1, 1, 3, 3, 3, 5, 5, 3, 3, 3, 5, 3, 3, 3, 5, 5, 1, 3, 3, 3, 3, 3, 3, 5, 1, 3, 3, 3, 3, 5, 3, 3, 3, 3, 3, 3, 3, 3, 3, 3, 3, 3, 5, 5, 3, 1, 3, 3, 5, 1, 3, 5, 3, 3, 3, 3, 3, 5, 5, 3, 3, 5, 1, 3, 3, 3, 3, 5, 3, 5, 1, 3, 3, 3, 3, 5, 3, 5, 5, 5, 3, 3, 3, 3, 5, 3, 5, 5, 3, 3, 3, 5, 3, 3, 5, 3, 3, 3, 3, 3, 5, 3, 3, 3, 1, 5, 5, 3, 5, 3, 5, 1, 3, 1, 1, 5, 3, 3, 3, 3, 5, 3, 1, 3, 5, 3, 5, 3, 3, 3, 3, 3, 1, 5, 5, 3, 3, 5, 3, 3, 3, 1, 3, 3, 1, 3, 5, 5, 3, 1, 5, 3, 3, 3, 3, 5, 3, 1, 5, 5, 3, 3, 5, 3, 3, 3, 3, 1, 3, 3, 3, 1, 5, 5, 3, 5, 3, 3, 5, 3, 3, 3, 5, 3, 5, 5, 3, 3, 5, 3, 3, 5, 3, 3, 3, 3, 3, 5, 5, 3, 3, 3, 3, 5, 5, 1, 3, 3, 3, 1, 3, 3, 3, 1, 3, 3, 3, 3, 3, 5, 3, 5, 1, 5, 1, 3, 3, 3, 1, 1, 3, 3, 5, 5, 3, 3, 1, 3, 1, 5, 1, 3, 3, 1, 3, 5, 3, 5, 1, 5, 3, 5, 1, 3, 3, 5, 3, 3, 5, 3, 3, 1, 5, 3, 5, 5, 3, 3, 5, 5, 5, 3, 5, 5, 5, 1, 5, 5, 3, 5, 3, 3, 1, 3, 3, 3, 3, 3, 3, 5, 5, 5, 3, 3, 5, 3, 3, 3, 3, 3, 3, 3, 3, 1, 5, 5, 1, 3, 3, 1, 3, 5, 5, 3, 3, 3, 3, 5, 3, 1, 5, 5, 3, 5, 3, 3, 1, 3, 3, 3, 3, 3, 3, 5, 5, 5, 3, 3, 5, 3, 1, 3, 3, 1, 5, 5, 3, 3, 3, 1, 3, 1, 3, 3, 5, 3, 1, 1, 5, 3, 3, 3, 1, 3, 3, 3, 5, 3, 3, 5, 3, 3, 1, 3, 3, 5, 3, 5, 1, 5, 3, 3, 5, 3, 3, 3, 3, 3, 5, 3, 1, 5, 1, 5, 1, 3, 5, 1, 3, 3, 5, 1, 1, 5, 5, 3, 1, 3, 1, 3, 3, 3, 5, 3, 5, 3, 3, 3, 1, 3, 5, 1, 3, 3, 5, 3, 5, 5, 1, 3, 5, 3, 3, 3, 3, 5, 3, 5, 5, 3, 5, 5, 5, 3, 3, 3, 1, 5, 5, 3, 1, 3, 3, 3, 5, 3, 3, 1, 3]"
   ]
  },
  {
   "cell_type": "code",
   "execution_count": 14,
   "metadata": {
    "collapsed": false
   },
   "outputs": [
    {
     "data": {
      "image/png": "[encoded data removed]",
      "text/plain": [
       "<Figure size 432x288 with 1 Axes>"
      ]
     },
     "metadata": {
      "needs_background": "light"
     },
     "output_type": "display_data"
    }
   ],
   "source": [
    "x, y, _ = plt.hist(last_eps, bins=list(range(0, 12)))"
   ]
  },
  {
   "cell_type": "code",
   "execution_count": 10,
   "metadata": {
    "collapsed": false
   },
   "outputs": [
    {
     "name": "stdout",
     "output_type": "stream",
     "text": [
      "[   0.  132.    0.  480.    3.  220.    4.   14.    1.    1.  145.] [ 0  1  2  3  4  5  6  7  8  9 10 11]\n"
     ]
    }
   ],
   "source": [
    "print(x,y)"
   ]
  },
  {
   "cell_type": "code",
   "execution_count": 23,
   "metadata": {
    "collapsed": false
   },
   "outputs": [
    {
     "name": "stdout",
     "output_type": "stream",
     "text": [
      "[4, 2, 4, 4, 3, 2, 6, 4, 3, 3, 4, 3, 2, 6, 2, 2, 3, 4, 4, 3, 3, 4, 3, 4, 3, 3, 1, 5, 1, 3, 2, 2, 4, 3, 3, 2, 3, 3, 1, 5, 6, 3, 2, 5, 5, 3, 1, 10, 10, 3, 5, 1, 4, 2, 4, 4, 3, 5, 3, 6, 1, 5, 8, 4, 4, 1, 3, 2, 3, 1, 5, 6, 3, 4, 3, 3, 2, 4, 1, 5, 1, 5, 4, 4, 3, 1, 2, 4, 6, 2, 3, 6, 2, 2, 2, 4, 2, 5, 4, 7]\n"
     ]
    }
   ],
   "source": [
    "print(last_eps[-100:])"
   ]
  },
  {
   "cell_type": "code",
   "execution_count": 11,
   "metadata": {
    "collapsed": false
   },
   "outputs": [
    {
     "data": {
      "text/plain": [
       "832"
      ]
     },
     "execution_count": 11,
     "metadata": {},
     "output_type": "execute_result"
    }
   ],
   "source": [
    "132 + 480 + 220"
   ]
  },
  {
   "cell_type": "code",
   "execution_count": 12,
   "metadata": {
    "collapsed": false
   },
   "outputs": [
    {
     "data": {
      "text/plain": [
       "[0.15865384615384615, 0.5769230769230769, 0.2644230769230769]"
      ]
     },
     "execution_count": 12,
     "metadata": {},
     "output_type": "execute_result"
    }
   ],
   "source": [
    "[132/832, 480/832, 220/832]\n"
   ]
  },
  {
   "cell_type": "code",
   "execution_count": null,
   "metadata": {
    "collapsed": true
   },
   "outputs": [],
   "source": []
  }
 ],
 "metadata": {
  "anaconda-cloud": {},
  "kernelspec": {
   "display_name": "Python [conda env:pytorch]",
   "language": "python",
   "name": "conda-env-pytorch-py"
  },
  "language_info": {
   "codemirror_mode": {
    "name": "ipython",
    "version": 3
   },
   "file_extension": ".py",
   "mimetype": "text/x-python",
   "name": "python",
   "nbconvert_exporter": "python",
   "pygments_lexer": "ipython3",
   "version": "3.6.8"
  }
 },
 "nbformat": 4,
 "nbformat_minor": 2
}
